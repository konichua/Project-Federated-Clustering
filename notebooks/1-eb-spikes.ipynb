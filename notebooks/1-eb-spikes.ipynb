{
 "cells": [
  {
   "cell_type": "code",
   "execution_count": 4,
   "id": "initial_id",
   "metadata": {
    "collapsed": true,
    "ExecuteTime": {
     "end_time": "2024-01-02T16:29:36.578131400Z",
     "start_time": "2024-01-02T16:29:35.468088300Z"
    }
   },
   "outputs": [],
   "source": [
    "from sklearn.datasets import make_blobs\n",
    "import numpy as np\n",
    "from sklearn.decomposition import PCA"
   ]
  },
  {
   "cell_type": "code",
   "execution_count": 24,
   "outputs": [
    {
     "data": {
      "text/plain": "array([[ 0.05761743,  1.5817094 ,  2.30441509,  3.04867001,  4.17754529],\n       [-1.02119593,  1.26144744,  2.34577448,  2.70313399,  4.90790185],\n       [ 0.06197897,  1.15126501,  1.6448857 ,  2.20768141,  3.86083514],\n       [ 0.13346973,  1.59763163,  1.91793669,  3.12522708,  3.6583617 ],\n       [-0.17522972,  0.49888186,  2.31099614,  2.35444086,  3.91490389],\n       [-0.39091115,  1.38003537,  1.93945712,  2.95871246,  4.1642394 ],\n       [ 0.70562094,  1.16006288,  2.39149519,  3.89635728,  4.7470232 ],\n       [-0.41942119,  0.43199283,  1.31749192,  3.78031016,  3.79613913],\n       [-0.58174627,  1.01830341,  1.92512646,  3.61311169,  4.58774351],\n       [ 0.06253959,  1.49211627,  2.48095194,  2.84506927,  3.8790789 ]])"
     },
     "execution_count": 24,
     "metadata": {},
     "output_type": "execute_result"
    }
   ],
   "source": [
    "# centers = [[1, 1], [-1, -1]]\n",
    "centers = [[0, 1, 2, 3, 4]]\n",
    "# centers = [[1, 1, 1, 1], [-1, -1, -1, -1]]\n",
    "total_no_samples = 10\n",
    "cluster_std = 0.4\n",
    "X, X_labels_true = make_blobs(n_samples=total_no_samples, n_features=5, \n",
    "                            centers=centers, \n",
    "                            cluster_std=cluster_std, random_state=0)\n",
    "X"
   ],
   "metadata": {
    "collapsed": false,
    "ExecuteTime": {
     "end_time": "2024-01-02T16:44:43.935405700Z",
     "start_time": "2024-01-02T16:44:43.857278500Z"
    }
   },
   "id": "82ec5dcd073d08a2"
  },
  {
   "cell_type": "code",
   "execution_count": 39,
   "outputs": [
    {
     "data": {
      "text/plain": "array([[-0.02185635, -0.49280755],\n       [-0.25780761,  0.43644926],\n       [-0.82387255, -0.00294642],\n       [-0.07535009, -0.39382822],\n       [-0.69243704,  0.23876489],\n       [-0.13698234,  0.09376515],\n       [ 1.07351508, -0.72739676],\n       [ 0.63398169,  0.92240679],\n       [ 0.60733597,  0.46078575],\n       [-0.30652676, -0.53519289]])"
     },
     "execution_count": 39,
     "metadata": {},
     "output_type": "execute_result"
    }
   ],
   "source": [
    " # pca, dataset_pca = perform_PCA(dimension_pca, dataset)\n",
    "VARIANCE = 0.6\n",
    "pca = PCA(VARIANCE)\n",
    "dataset_pca = pca.fit_transform(X)\n",
    "dataset_pca"
   ],
   "metadata": {
    "collapsed": false,
    "ExecuteTime": {
     "end_time": "2024-01-02T17:01:19.980997700Z",
     "start_time": "2024-01-02T17:01:19.918497200Z"
    }
   },
   "id": "a992def5d0cf7a09"
  },
  {
   "cell_type": "code",
   "execution_count": 44,
   "outputs": [
    {
     "data": {
      "text/plain": "array([[-0.82387255, -0.72739676]])"
     },
     "execution_count": 44,
     "metadata": {},
     "output_type": "execute_result"
    }
   ],
   "source": [
    "generated_spikes = np.random.uniform(low=dataset_pca.min(axis=0),\n",
    "                                        high=dataset_pca.min(axis=0),\n",
    "                                        size=(1, dataset_pca.shape[1]))\n",
    "                                             # size=(no_of_spikes*induce, dimension_pca))\n",
    "generated_spikes"
   ],
   "metadata": {
    "collapsed": false,
    "ExecuteTime": {
     "end_time": "2024-01-02T17:14:10.483424700Z",
     "start_time": "2024-01-02T17:14:10.389668300Z"
    }
   },
   "id": "744cc7053eb204e0"
  },
  {
   "cell_type": "code",
   "execution_count": 27,
   "outputs": [
    {
     "data": {
      "text/plain": "array([[0.14584211, 1.2431836 , 2.12952716, 3.71906052, 4.3870595 ]])"
     },
     "execution_count": 27,
     "metadata": {},
     "output_type": "execute_result"
    }
   ],
   "source": [
    "spikes = pca.inverse_transform(generated_spikes)\n",
    "spikes"
   ],
   "metadata": {
    "collapsed": false,
    "ExecuteTime": {
     "end_time": "2024-01-02T16:44:45.814956500Z",
     "start_time": "2024-01-02T16:44:45.694062200Z"
    }
   },
   "id": "3158aee028b063ed"
  },
  {
   "cell_type": "code",
   "execution_count": 45,
   "outputs": [
    {
     "data": {
      "text/plain": "numpy.ndarray"
     },
     "execution_count": 45,
     "metadata": {},
     "output_type": "execute_result"
    }
   ],
   "source": [
    "type(spikes)"
   ],
   "metadata": {
    "collapsed": false,
    "ExecuteTime": {
     "end_time": "2024-01-02T17:20:43.711744800Z",
     "start_time": "2024-01-02T17:20:43.664870500Z"
    }
   },
   "id": "fcba218e10ec006b"
  },
  {
   "cell_type": "code",
   "execution_count": 46,
   "outputs": [
    {
     "data": {
      "text/plain": "(1, 5)"
     },
     "execution_count": 46,
     "metadata": {},
     "output_type": "execute_result"
    }
   ],
   "source": [
    "spikes.shape"
   ],
   "metadata": {
    "collapsed": false,
    "ExecuteTime": {
     "end_time": "2024-01-02T17:20:54.507546200Z",
     "start_time": "2024-01-02T17:20:54.382547100Z"
    }
   },
   "id": "bc092e614abeeb3f"
  },
  {
   "cell_type": "code",
   "execution_count": 47,
   "outputs": [],
   "source": [
    "res = [np.array([[ 0.95029728,  0.99916205],\n",
    "       [-0.97764367, -1.0006545 ]]), np.array([[1.67762716, 1.62089704]])]"
   ],
   "metadata": {
    "collapsed": false,
    "ExecuteTime": {
     "end_time": "2024-01-02T17:51:47.120096Z",
     "start_time": "2024-01-02T17:51:47.071218500Z"
    }
   },
   "id": "c42d379845018360"
  },
  {
   "cell_type": "code",
   "execution_count": 52,
   "outputs": [
    {
     "ename": "ValueError",
     "evalue": "setting an array element with a sequence. The requested array has an inhomogeneous shape after 1 dimensions. The detected shape was (2,) + inhomogeneous part.",
     "output_type": "error",
     "traceback": [
      "\u001B[1;31m---------------------------------------------------------------------------\u001B[0m",
      "\u001B[1;31mValueError\u001B[0m                                Traceback (most recent call last)",
      "Cell \u001B[1;32mIn[52], line 1\u001B[0m\n\u001B[1;32m----> 1\u001B[0m \u001B[43mnp\u001B[49m\u001B[38;5;241;43m.\u001B[39;49m\u001B[43marray\u001B[49m\u001B[43m(\u001B[49m\u001B[43mres\u001B[49m\u001B[43m)\u001B[49m\n",
      "\u001B[1;31mValueError\u001B[0m: setting an array element with a sequence. The requested array has an inhomogeneous shape after 1 dimensions. The detected shape was (2,) + inhomogeneous part."
     ]
    }
   ],
   "source": [
    "np.array(res)"
   ],
   "metadata": {
    "collapsed": false,
    "ExecuteTime": {
     "end_time": "2024-01-02T18:08:01.734483100Z",
     "start_time": "2024-01-02T18:08:01.580328500Z"
    }
   },
   "id": "32a871a9e4e67030"
  },
  {
   "cell_type": "code",
   "execution_count": 63,
   "outputs": [
    {
     "data": {
      "text/plain": "array([[ 0.95029728,  0.99916205],\n       [-0.97764367, -1.0006545 ],\n       [ 1.67762716,  1.62089704]])"
     },
     "execution_count": 63,
     "metadata": {},
     "output_type": "execute_result"
    }
   ],
   "source": [
    "np.concatenate(res, axis=0)"
   ],
   "metadata": {
    "collapsed": false,
    "ExecuteTime": {
     "end_time": "2024-01-02T18:10:07.348638300Z",
     "start_time": "2024-01-02T18:10:07.301765200Z"
    }
   },
   "id": "ed11f75b34e7c4b9"
  },
  {
   "cell_type": "code",
   "execution_count": 57,
   "outputs": [
    {
     "data": {
      "text/plain": "array([[ 0.95029728,  0.99916205],\n       [-0.97764367, -1.0006545 ]])"
     },
     "execution_count": 57,
     "metadata": {},
     "output_type": "execute_result"
    }
   ],
   "source": [
    "res[0]"
   ],
   "metadata": {
    "collapsed": false,
    "ExecuteTime": {
     "end_time": "2024-01-02T18:09:09.359509900Z",
     "start_time": "2024-01-02T18:09:09.312637500Z"
    }
   },
   "id": "b5dafe1746df7934"
  },
  {
   "cell_type": "code",
   "execution_count": 59,
   "outputs": [
    {
     "data": {
      "text/plain": "array([[1.67762716, 1.62089704]])"
     },
     "execution_count": 59,
     "metadata": {},
     "output_type": "execute_result"
    }
   ],
   "source": [
    "res[1]"
   ],
   "metadata": {
    "collapsed": false,
    "ExecuteTime": {
     "end_time": "2024-01-02T18:09:17.039217500Z",
     "start_time": "2024-01-02T18:09:17.007972400Z"
    }
   },
   "id": "a3393efdd19c81d7"
  },
  {
   "cell_type": "code",
   "execution_count": null,
   "outputs": [],
   "source": [],
   "metadata": {
    "collapsed": false
   },
   "id": "7418b032f8d58a48"
  }
 ],
 "metadata": {
  "kernelspec": {
   "display_name": "Python 3",
   "language": "python",
   "name": "python3"
  },
  "language_info": {
   "codemirror_mode": {
    "name": "ipython",
    "version": 2
   },
   "file_extension": ".py",
   "mimetype": "text/x-python",
   "name": "python",
   "nbconvert_exporter": "python",
   "pygments_lexer": "ipython2",
   "version": "2.7.6"
  }
 },
 "nbformat": 4,
 "nbformat_minor": 5
}
