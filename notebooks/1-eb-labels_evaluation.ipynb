{
 "cells": [
  {
   "cell_type": "code",
   "execution_count": 12,
   "id": "initial_id",
   "metadata": {
    "collapsed": true,
    "ExecuteTime": {
     "end_time": "2024-01-06T09:48:30.370766900Z",
     "start_time": "2024-01-06T09:48:30.339506100Z"
    }
   },
   "outputs": [],
   "source": [
    "from sklearn.metrics.cluster import contingency_matrix\n",
    "import numpy as np"
   ]
  },
  {
   "cell_type": "code",
   "execution_count": 28,
   "outputs": [],
   "source": [
    "labels_true = np.array([1, 0, 1, 1, 2, 2, 0,  0, 2, 2])\n",
    "labels_pred = np.array([0, 1, 0, 0, 2, 2, 1, -1, 2, 2])"
   ],
   "metadata": {
    "collapsed": false,
    "ExecuteTime": {
     "end_time": "2024-01-06T10:04:50.029581900Z",
     "start_time": "2024-01-06T10:04:49.998277600Z"
    }
   },
   "id": "38cef994ee197a8a"
  },
  {
   "cell_type": "markdown",
   "source": [
    "Build a contingency matrix describing the relationship between labels."
   ],
   "metadata": {
    "collapsed": false
   },
   "id": "ffaa7cabfffe1ec"
  },
  {
   "cell_type": "code",
   "execution_count": 29,
   "outputs": [
    {
     "data": {
      "text/plain": "array([[1, 0, 2, 0],\n       [0, 3, 0, 0],\n       [0, 0, 0, 4]], dtype=int64)"
     },
     "execution_count": 29,
     "metadata": {},
     "output_type": "execute_result"
    }
   ],
   "source": [
    "matrix = contingency_matrix(labels_true, labels_pred)\n",
    "matrix"
   ],
   "metadata": {
    "collapsed": false,
    "ExecuteTime": {
     "end_time": "2024-01-06T10:04:51.902879600Z",
     "start_time": "2024-01-06T10:04:51.824743900Z"
    }
   },
   "id": "a093195a6367b4bb"
  },
  {
   "cell_type": "markdown",
   "source": [
    "Matrix C such that Cij is the number of samples in true class i and in predicted class j. \n",
    "In this example, columns have labels [-1, 0, 1, 2]"
   ],
   "metadata": {
    "collapsed": false
   },
   "id": "e9b28b8de5a4872d"
  },
  {
   "cell_type": "code",
   "execution_count": 30,
   "outputs": [
    {
     "data": {
      "text/plain": "array([[0, 2, 0],\n       [3, 0, 0],\n       [0, 0, 4]], dtype=int64)"
     },
     "execution_count": 30,
     "metadata": {},
     "output_type": "execute_result"
    }
   ],
   "source": [
    "# delete -1 label, as DBSCAN/K-means consider it as outlier anyway\n",
    "matrix = matrix[:, 1:]\n",
    "matrix"
   ],
   "metadata": {
    "collapsed": false,
    "ExecuteTime": {
     "end_time": "2024-01-06T10:04:53.957574800Z",
     "start_time": "2024-01-06T10:04:53.941950500Z"
    }
   },
   "id": "c0bf30b3f0757284"
  },
  {
   "cell_type": "code",
   "execution_count": 31,
   "outputs": [
    {
     "data": {
      "text/plain": "array([-1, -1, -1, -1, -1, -1, -1, -1, -1, -1])"
     },
     "execution_count": 31,
     "metadata": {},
     "output_type": "execute_result"
    }
   ],
   "source": [
    "labels_new = np.full_like(labels_pred, -1)\n",
    "labels_new"
   ],
   "metadata": {
    "collapsed": false,
    "ExecuteTime": {
     "end_time": "2024-01-06T10:04:55.421743700Z",
     "start_time": "2024-01-06T10:04:55.390436400Z"
    }
   },
   "id": "a0ab9a4a99e63b4"
  },
  {
   "cell_type": "code",
   "execution_count": 32,
   "outputs": [
    {
     "data": {
      "text/plain": "array([2, 3, 4], dtype=int64)"
     },
     "execution_count": 32,
     "metadata": {},
     "output_type": "execute_result"
    }
   ],
   "source": [
    "np.max(matrix, axis=1)"
   ],
   "metadata": {
    "collapsed": false,
    "ExecuteTime": {
     "end_time": "2024-01-06T10:04:57.310392300Z",
     "start_time": "2024-01-06T10:04:57.279105500Z"
    }
   },
   "id": "c13c8316115a3754"
  },
  {
   "cell_type": "code",
   "execution_count": 33,
   "outputs": [
    {
     "data": {
      "text/plain": "2"
     },
     "execution_count": 33,
     "metadata": {},
     "output_type": "execute_result"
    }
   ],
   "source": [
    "row = np.argmax(np.max(matrix, axis=1))\n",
    "row"
   ],
   "metadata": {
    "collapsed": false,
    "ExecuteTime": {
     "end_time": "2024-01-06T10:05:02.430878400Z",
     "start_time": "2024-01-06T10:05:02.399613900Z"
    }
   },
   "id": "4f67147e6396068f"
  },
  {
   "cell_type": "code",
   "execution_count": 36,
   "outputs": [
    {
     "data": {
      "text/plain": "4"
     },
     "execution_count": 36,
     "metadata": {},
     "output_type": "execute_result"
    }
   ],
   "source": [
    "value = np.max(np.max(matrix, axis=1))\n",
    "value"
   ],
   "metadata": {
    "collapsed": false,
    "ExecuteTime": {
     "end_time": "2024-01-06T10:05:52.961108600Z",
     "start_time": "2024-01-06T10:05:52.914236100Z"
    }
   },
   "id": "e3787751aa5ca119"
  },
  {
   "cell_type": "code",
   "execution_count": 35,
   "outputs": [
    {
     "data": {
      "text/plain": "2"
     },
     "execution_count": 35,
     "metadata": {},
     "output_type": "execute_result"
    }
   ],
   "source": [
    "col = np.argmax(matrix[row])\n",
    "col"
   ],
   "metadata": {
    "collapsed": false,
    "ExecuteTime": {
     "end_time": "2024-01-06T10:05:07.528204700Z",
     "start_time": "2024-01-06T10:05:07.481303900Z"
    }
   },
   "id": "727841571593b058"
  },
  {
   "cell_type": "code",
   "execution_count": 23,
   "outputs": [
    {
     "data": {
      "text/plain": "array([[0, 2, 0],\n       [3, 0, 0],\n       [0, 0, 4]], dtype=int64)"
     },
     "execution_count": 23,
     "metadata": {},
     "output_type": "execute_result"
    }
   ],
   "source": [
    "matrix"
   ],
   "metadata": {
    "collapsed": false,
    "ExecuteTime": {
     "end_time": "2024-01-06T10:02:55.579250300Z",
     "start_time": "2024-01-06T10:02:55.516752900Z"
    }
   },
   "id": "28bd25564ed563cd"
  },
  {
   "cell_type": "code",
   "execution_count": 37,
   "outputs": [
    {
     "data": {
      "text/plain": "array([2, 2, 2, 2])"
     },
     "execution_count": 37,
     "metadata": {},
     "output_type": "execute_result"
    }
   ],
   "source": [
    "labels_pred[labels_pred == col]"
   ],
   "metadata": {
    "collapsed": false,
    "ExecuteTime": {
     "end_time": "2024-01-06T10:05:59.596167900Z",
     "start_time": "2024-01-06T10:05:59.549291200Z"
    }
   },
   "id": "b824cddb43466cad"
  },
  {
   "cell_type": "code",
   "execution_count": 26,
   "outputs": [
    {
     "data": {
      "text/plain": "4"
     },
     "execution_count": 26,
     "metadata": {},
     "output_type": "execute_result"
    }
   ],
   "source": [
    "matrix[row, col]"
   ],
   "metadata": {
    "collapsed": false,
    "ExecuteTime": {
     "end_time": "2024-01-06T10:03:27.494884Z",
     "start_time": "2024-01-06T10:03:27.338627100Z"
    }
   },
   "id": "22e937f9465c8627"
  },
  {
   "cell_type": "code",
   "execution_count": 38,
   "outputs": [],
   "source": [
    "########### stop"
   ],
   "metadata": {
    "collapsed": false,
    "ExecuteTime": {
     "end_time": "2024-01-06T11:26:43.558114100Z",
     "start_time": "2024-01-06T11:26:43.495117300Z"
    }
   },
   "id": "79d98651aa55396e"
  },
  {
   "cell_type": "code",
   "execution_count": 40,
   "outputs": [],
   "source": [
    "from sklearn.metrics.cluster import adjusted_rand_score\n",
    "from sklearn.metrics import f1_score"
   ],
   "metadata": {
    "collapsed": false,
    "ExecuteTime": {
     "end_time": "2024-01-06T11:27:27.282603400Z",
     "start_time": "2024-01-06T11:27:27.251355900Z"
    }
   },
   "id": "9107a32bad7d4f84"
  },
  {
   "cell_type": "code",
   "execution_count": 41,
   "outputs": [
    {
     "data": {
      "text/plain": "0.4000000000000001"
     },
     "execution_count": 41,
     "metadata": {},
     "output_type": "execute_result"
    }
   ],
   "source": [
    "f1_score(labels_true, labels_pred, average='micro')"
   ],
   "metadata": {
    "collapsed": false,
    "ExecuteTime": {
     "end_time": "2024-01-06T11:27:58.296632Z",
     "start_time": "2024-01-06T11:27:58.244630100Z"
    }
   },
   "id": "ca547a69efa95916"
  },
  {
   "cell_type": "code",
   "execution_count": 42,
   "outputs": [
    {
     "data": {
      "text/plain": "0.88"
     },
     "execution_count": 42,
     "metadata": {},
     "output_type": "execute_result"
    }
   ],
   "source": [
    "adjusted_rand_score(labels_true, labels_pred)"
   ],
   "metadata": {
    "collapsed": false,
    "ExecuteTime": {
     "end_time": "2024-01-06T11:27:59.897752300Z",
     "start_time": "2024-01-06T11:27:59.835254300Z"
    }
   },
   "id": "d5d06d4bd72d6895"
  },
  {
   "cell_type": "code",
   "execution_count": 43,
   "outputs": [],
   "source": [
    "########## BOOOOM"
   ],
   "metadata": {
    "collapsed": false,
    "ExecuteTime": {
     "end_time": "2024-01-06T11:28:13.142219600Z",
     "start_time": "2024-01-06T11:28:13.110731200Z"
    }
   },
   "id": "be3dbb463e046289"
  },
  {
   "cell_type": "code",
   "execution_count": null,
   "outputs": [],
   "source": [],
   "metadata": {
    "collapsed": false
   },
   "id": "c28d4472a69962c9"
  }
 ],
 "metadata": {
  "kernelspec": {
   "display_name": "Python 3",
   "language": "python",
   "name": "python3"
  },
  "language_info": {
   "codemirror_mode": {
    "name": "ipython",
    "version": 2
   },
   "file_extension": ".py",
   "mimetype": "text/x-python",
   "name": "python",
   "nbconvert_exporter": "python",
   "pygments_lexer": "ipython2",
   "version": "2.7.6"
  }
 },
 "nbformat": 4,
 "nbformat_minor": 5
}
