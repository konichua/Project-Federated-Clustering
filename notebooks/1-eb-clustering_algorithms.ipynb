{
 "cells": [
  {
   "cell_type": "code",
   "execution_count": null,
   "id": "initial_id",
   "metadata": {
    "collapsed": true
   },
   "outputs": [],
   "source": []
  },
  {
   "cell_type": "code",
   "execution_count": 41,
   "outputs": [],
   "source": [
    "from sklearn.cluster import MeanShift, KMeans\n",
    "from sklearn.datasets import make_blobs\n",
    "from sklearn.metrics.cluster import adjusted_rand_score\n",
    "from matplotlib import pyplot as plt\n",
    "import numpy as np"
   ],
   "metadata": {
    "collapsed": false,
    "ExecuteTime": {
     "end_time": "2024-01-21T16:47:01.856228800Z",
     "start_time": "2024-01-21T16:47:01.815300800Z"
    }
   },
   "id": "dde6fa7ca648675e"
  },
  {
   "cell_type": "code",
   "execution_count": 36,
   "outputs": [],
   "source": [
    "def generate_dataset(cluster_std, samples_nb, centers, type, n_features, center_box=(-10.0, 10.0), random_state=0):\n",
    "    if type == 'blobs':\n",
    "        global_df, global_labels_true = make_blobs(n_samples=samples_nb,\n",
    "                                                   n_features=n_features,\n",
    "                                                   centers=centers,\n",
    "                                                   center_box=center_box,\n",
    "                                                   cluster_std=cluster_std,\n",
    "                                                   random_state=random_state)\n",
    "    else:\n",
    "        raise ValueError('type not specified')\n",
    "    return global_df, global_labels_true"
   ],
   "metadata": {
    "collapsed": false,
    "ExecuteTime": {
     "end_time": "2024-01-21T16:32:35.439034Z",
     "start_time": "2024-01-21T16:32:35.317124700Z"
    }
   },
   "id": "e46a95346a59408d"
  },
  {
   "cell_type": "code",
   "execution_count": 45,
   "outputs": [
    {
     "name": "stdout",
     "output_type": "stream",
     "text": [
      "n_std=0 1.0\n",
      "n_std=1 1.0\n",
      "n_std=2 1.0\n",
      "n_std=3 1.0\n",
      "n_std=4 1.0\n",
      "n_std=5 0.9935822358901405\n",
      "n_std=6 0.9705819147252961\n",
      "n_std=7 0.9250727207927391\n",
      "n_std=8 0.845706317511486\n",
      "n_std=9 0.7751178230842712\n",
      "n_std=10 0.7186739663089394\n",
      "n_std=11 0.6246873812513194\n",
      "n_std=12 0.5315794040605463\n",
      "n_std=13 0.45355418658249674\n",
      "n_std=14 0.36242722119036863\n"
     ]
    },
    {
     "ename": "KeyboardInterrupt",
     "evalue": "",
     "output_type": "error",
     "traceback": [
      "\u001B[1;31m---------------------------------------------------------------------------\u001B[0m",
      "\u001B[1;31mKeyboardInterrupt\u001B[0m                         Traceback (most recent call last)",
      "Cell \u001B[1;32mIn[45], line 9\u001B[0m\n\u001B[0;32m      3\u001B[0m \u001B[38;5;28;01mfor\u001B[39;00m rnd \u001B[38;5;129;01min\u001B[39;00m \u001B[38;5;28mrange\u001B[39m(\u001B[38;5;241m0\u001B[39m, \u001B[38;5;241m30\u001B[39m):\n\u001B[0;32m      4\u001B[0m     global_data, global_labels_true \u001B[38;5;241m=\u001B[39m generate_dataset(cluster_std\u001B[38;5;241m=\u001B[39mn_std,\n\u001B[0;32m      5\u001B[0m                                                        n_features\u001B[38;5;241m=\u001B[39m\u001B[38;5;241m20\u001B[39m,\n\u001B[0;32m      6\u001B[0m                                                        samples_nb\u001B[38;5;241m=\u001B[39m\u001B[38;5;241m573\u001B[39m,\n\u001B[0;32m      7\u001B[0m                                                        centers\u001B[38;5;241m=\u001B[39m\u001B[38;5;241m5\u001B[39m,\n\u001B[0;32m      8\u001B[0m                                                        \u001B[38;5;28mtype\u001B[39m\u001B[38;5;241m=\u001B[39m\u001B[38;5;124m'\u001B[39m\u001B[38;5;124mblobs\u001B[39m\u001B[38;5;124m'\u001B[39m)\n\u001B[1;32m----> 9\u001B[0m     lables \u001B[38;5;241m=\u001B[39m \u001B[43mKMeans\u001B[49m\u001B[43m(\u001B[49m\u001B[43mn_clusters\u001B[49m\u001B[38;5;241;43m=\u001B[39;49m\u001B[38;5;241;43m5\u001B[39;49m\u001B[43m,\u001B[49m\u001B[43m \u001B[49m\u001B[43mn_init\u001B[49m\u001B[38;5;241;43m=\u001B[39;49m\u001B[38;5;241;43m5\u001B[39;49m\u001B[43m,\u001B[49m\u001B[43m \u001B[49m\u001B[43minit\u001B[49m\u001B[38;5;241;43m=\u001B[39;49m\u001B[38;5;124;43m'\u001B[39;49m\u001B[38;5;124;43mk-means++\u001B[39;49m\u001B[38;5;124;43m'\u001B[39;49m\u001B[43m,\u001B[49m\u001B[43m \u001B[49m\u001B[43mrandom_state\u001B[49m\u001B[38;5;241;43m=\u001B[39;49m\u001B[43mrnd\u001B[49m\u001B[43m)\u001B[49m\u001B[38;5;241;43m.\u001B[39;49m\u001B[43mfit_predict\u001B[49m\u001B[43m(\u001B[49m\u001B[43mglobal_data\u001B[49m\u001B[43m)\u001B[49m\n\u001B[0;32m     10\u001B[0m     tmp\u001B[38;5;241m.\u001B[39mappend(adjusted_rand_score(lables, global_labels_true))\n\u001B[0;32m     11\u001B[0m mean \u001B[38;5;241m=\u001B[39m np\u001B[38;5;241m.\u001B[39mmean(tmp)\n",
      "File \u001B[1;32mc:\\users\\professional\\fau\\fau_fc\\.venv\\lib\\site-packages\\sklearn\\cluster\\_kmeans.py:1068\u001B[0m, in \u001B[0;36m_BaseKMeans.fit_predict\u001B[1;34m(self, X, y, sample_weight)\u001B[0m\n\u001B[0;32m   1045\u001B[0m \u001B[38;5;28;01mdef\u001B[39;00m \u001B[38;5;21mfit_predict\u001B[39m(\u001B[38;5;28mself\u001B[39m, X, y\u001B[38;5;241m=\u001B[39m\u001B[38;5;28;01mNone\u001B[39;00m, sample_weight\u001B[38;5;241m=\u001B[39m\u001B[38;5;28;01mNone\u001B[39;00m):\n\u001B[0;32m   1046\u001B[0m \u001B[38;5;250m    \u001B[39m\u001B[38;5;124;03m\"\"\"Compute cluster centers and predict cluster index for each sample.\u001B[39;00m\n\u001B[0;32m   1047\u001B[0m \n\u001B[0;32m   1048\u001B[0m \u001B[38;5;124;03m    Convenience method; equivalent to calling fit(X) followed by\u001B[39;00m\n\u001B[1;32m   (...)\u001B[0m\n\u001B[0;32m   1066\u001B[0m \u001B[38;5;124;03m        Index of the cluster each sample belongs to.\u001B[39;00m\n\u001B[0;32m   1067\u001B[0m \u001B[38;5;124;03m    \"\"\"\u001B[39;00m\n\u001B[1;32m-> 1068\u001B[0m     \u001B[38;5;28;01mreturn\u001B[39;00m \u001B[38;5;28;43mself\u001B[39;49m\u001B[38;5;241;43m.\u001B[39;49m\u001B[43mfit\u001B[49m\u001B[43m(\u001B[49m\u001B[43mX\u001B[49m\u001B[43m,\u001B[49m\u001B[43m \u001B[49m\u001B[43msample_weight\u001B[49m\u001B[38;5;241;43m=\u001B[39;49m\u001B[43msample_weight\u001B[49m\u001B[43m)\u001B[49m\u001B[38;5;241m.\u001B[39mlabels_\n",
      "File \u001B[1;32mc:\\users\\professional\\fau\\fau_fc\\.venv\\lib\\site-packages\\sklearn\\base.py:1151\u001B[0m, in \u001B[0;36m_fit_context.<locals>.decorator.<locals>.wrapper\u001B[1;34m(estimator, *args, **kwargs)\u001B[0m\n\u001B[0;32m   1144\u001B[0m     estimator\u001B[38;5;241m.\u001B[39m_validate_params()\n\u001B[0;32m   1146\u001B[0m \u001B[38;5;28;01mwith\u001B[39;00m config_context(\n\u001B[0;32m   1147\u001B[0m     skip_parameter_validation\u001B[38;5;241m=\u001B[39m(\n\u001B[0;32m   1148\u001B[0m         prefer_skip_nested_validation \u001B[38;5;129;01mor\u001B[39;00m global_skip_validation\n\u001B[0;32m   1149\u001B[0m     )\n\u001B[0;32m   1150\u001B[0m ):\n\u001B[1;32m-> 1151\u001B[0m     \u001B[38;5;28;01mreturn\u001B[39;00m \u001B[43mfit_method\u001B[49m\u001B[43m(\u001B[49m\u001B[43mestimator\u001B[49m\u001B[43m,\u001B[49m\u001B[43m \u001B[49m\u001B[38;5;241;43m*\u001B[39;49m\u001B[43margs\u001B[49m\u001B[43m,\u001B[49m\u001B[43m \u001B[49m\u001B[38;5;241;43m*\u001B[39;49m\u001B[38;5;241;43m*\u001B[39;49m\u001B[43mkwargs\u001B[49m\u001B[43m)\u001B[49m\n",
      "File \u001B[1;32mc:\\users\\professional\\fau\\fau_fc\\.venv\\lib\\site-packages\\sklearn\\cluster\\_kmeans.py:1526\u001B[0m, in \u001B[0;36mKMeans.fit\u001B[1;34m(self, X, y, sample_weight)\u001B[0m\n\u001B[0;32m   1523\u001B[0m     \u001B[38;5;28mprint\u001B[39m(\u001B[38;5;124m\"\u001B[39m\u001B[38;5;124mInitialization complete\u001B[39m\u001B[38;5;124m\"\u001B[39m)\n\u001B[0;32m   1525\u001B[0m \u001B[38;5;66;03m# run a k-means once\u001B[39;00m\n\u001B[1;32m-> 1526\u001B[0m labels, inertia, centers, n_iter_ \u001B[38;5;241m=\u001B[39m \u001B[43mkmeans_single\u001B[49m\u001B[43m(\u001B[49m\n\u001B[0;32m   1527\u001B[0m \u001B[43m    \u001B[49m\u001B[43mX\u001B[49m\u001B[43m,\u001B[49m\n\u001B[0;32m   1528\u001B[0m \u001B[43m    \u001B[49m\u001B[43msample_weight\u001B[49m\u001B[43m,\u001B[49m\n\u001B[0;32m   1529\u001B[0m \u001B[43m    \u001B[49m\u001B[43mcenters_init\u001B[49m\u001B[43m,\u001B[49m\n\u001B[0;32m   1530\u001B[0m \u001B[43m    \u001B[49m\u001B[43mmax_iter\u001B[49m\u001B[38;5;241;43m=\u001B[39;49m\u001B[38;5;28;43mself\u001B[39;49m\u001B[38;5;241;43m.\u001B[39;49m\u001B[43mmax_iter\u001B[49m\u001B[43m,\u001B[49m\n\u001B[0;32m   1531\u001B[0m \u001B[43m    \u001B[49m\u001B[43mverbose\u001B[49m\u001B[38;5;241;43m=\u001B[39;49m\u001B[38;5;28;43mself\u001B[39;49m\u001B[38;5;241;43m.\u001B[39;49m\u001B[43mverbose\u001B[49m\u001B[43m,\u001B[49m\n\u001B[0;32m   1532\u001B[0m \u001B[43m    \u001B[49m\u001B[43mtol\u001B[49m\u001B[38;5;241;43m=\u001B[39;49m\u001B[38;5;28;43mself\u001B[39;49m\u001B[38;5;241;43m.\u001B[39;49m\u001B[43m_tol\u001B[49m\u001B[43m,\u001B[49m\n\u001B[0;32m   1533\u001B[0m \u001B[43m    \u001B[49m\u001B[43mn_threads\u001B[49m\u001B[38;5;241;43m=\u001B[39;49m\u001B[38;5;28;43mself\u001B[39;49m\u001B[38;5;241;43m.\u001B[39;49m\u001B[43m_n_threads\u001B[49m\u001B[43m,\u001B[49m\n\u001B[0;32m   1534\u001B[0m \u001B[43m\u001B[49m\u001B[43m)\u001B[49m\n\u001B[0;32m   1536\u001B[0m \u001B[38;5;66;03m# determine if these results are the best so far\u001B[39;00m\n\u001B[0;32m   1537\u001B[0m \u001B[38;5;66;03m# we chose a new run if it has a better inertia and the clustering is\u001B[39;00m\n\u001B[0;32m   1538\u001B[0m \u001B[38;5;66;03m# different from the best so far (it's possible that the inertia is\u001B[39;00m\n\u001B[0;32m   1539\u001B[0m \u001B[38;5;66;03m# slightly better even if the clustering is the same with potentially\u001B[39;00m\n\u001B[0;32m   1540\u001B[0m \u001B[38;5;66;03m# permuted labels, due to rounding errors)\u001B[39;00m\n\u001B[0;32m   1541\u001B[0m \u001B[38;5;28;01mif\u001B[39;00m best_inertia \u001B[38;5;129;01mis\u001B[39;00m \u001B[38;5;28;01mNone\u001B[39;00m \u001B[38;5;129;01mor\u001B[39;00m (\n\u001B[0;32m   1542\u001B[0m     inertia \u001B[38;5;241m<\u001B[39m best_inertia\n\u001B[0;32m   1543\u001B[0m     \u001B[38;5;129;01mand\u001B[39;00m \u001B[38;5;129;01mnot\u001B[39;00m _is_same_clustering(labels, best_labels, \u001B[38;5;28mself\u001B[39m\u001B[38;5;241m.\u001B[39mn_clusters)\n\u001B[0;32m   1544\u001B[0m ):\n",
      "File \u001B[1;32mc:\\users\\professional\\fau\\fau_fc\\.venv\\lib\\site-packages\\sklearn\\cluster\\_kmeans.py:690\u001B[0m, in \u001B[0;36m_kmeans_single_lloyd\u001B[1;34m(X, sample_weight, centers_init, max_iter, verbose, tol, n_threads)\u001B[0m\n\u001B[0;32m    688\u001B[0m \u001B[38;5;28;01mwith\u001B[39;00m threadpool_limits(limits\u001B[38;5;241m=\u001B[39m\u001B[38;5;241m1\u001B[39m, user_api\u001B[38;5;241m=\u001B[39m\u001B[38;5;124m\"\u001B[39m\u001B[38;5;124mblas\u001B[39m\u001B[38;5;124m\"\u001B[39m):\n\u001B[0;32m    689\u001B[0m     \u001B[38;5;28;01mfor\u001B[39;00m i \u001B[38;5;129;01min\u001B[39;00m \u001B[38;5;28mrange\u001B[39m(max_iter):\n\u001B[1;32m--> 690\u001B[0m         \u001B[43mlloyd_iter\u001B[49m\u001B[43m(\u001B[49m\n\u001B[0;32m    691\u001B[0m \u001B[43m            \u001B[49m\u001B[43mX\u001B[49m\u001B[43m,\u001B[49m\n\u001B[0;32m    692\u001B[0m \u001B[43m            \u001B[49m\u001B[43msample_weight\u001B[49m\u001B[43m,\u001B[49m\n\u001B[0;32m    693\u001B[0m \u001B[43m            \u001B[49m\u001B[43mcenters\u001B[49m\u001B[43m,\u001B[49m\n\u001B[0;32m    694\u001B[0m \u001B[43m            \u001B[49m\u001B[43mcenters_new\u001B[49m\u001B[43m,\u001B[49m\n\u001B[0;32m    695\u001B[0m \u001B[43m            \u001B[49m\u001B[43mweight_in_clusters\u001B[49m\u001B[43m,\u001B[49m\n\u001B[0;32m    696\u001B[0m \u001B[43m            \u001B[49m\u001B[43mlabels\u001B[49m\u001B[43m,\u001B[49m\n\u001B[0;32m    697\u001B[0m \u001B[43m            \u001B[49m\u001B[43mcenter_shift\u001B[49m\u001B[43m,\u001B[49m\n\u001B[0;32m    698\u001B[0m \u001B[43m            \u001B[49m\u001B[43mn_threads\u001B[49m\u001B[43m,\u001B[49m\n\u001B[0;32m    699\u001B[0m \u001B[43m        \u001B[49m\u001B[43m)\u001B[49m\n\u001B[0;32m    701\u001B[0m         \u001B[38;5;28;01mif\u001B[39;00m verbose:\n\u001B[0;32m    702\u001B[0m             inertia \u001B[38;5;241m=\u001B[39m _inertia(X, sample_weight, centers, labels, n_threads)\n",
      "\u001B[1;31mKeyboardInterrupt\u001B[0m: "
     ]
    }
   ],
   "source": [
    "for n_std in range(0, 30):\n",
    "    tmp = []\n",
    "    for rnd in range(0, 30):\n",
    "        global_data, global_labels_true = generate_dataset(cluster_std=n_std,\n",
    "                                                           n_features=20,\n",
    "                                                           samples_nb=573,\n",
    "                                                           centers=5,\n",
    "                                                           type='blobs')\n",
    "        lables = KMeans(n_clusters=5, n_init=5, init='k-means++', random_state=rnd).fit_predict(global_data)\n",
    "        tmp.append(adjusted_rand_score(lables, global_labels_true))\n",
    "    mean = np.mean(tmp)\n",
    "    print(f'{n_std=} {np.mean(tmp)}')"
   ],
   "metadata": {
    "collapsed": false,
    "ExecuteTime": {
     "end_time": "2024-01-21T17:12:52.380719800Z",
     "start_time": "2024-01-21T17:12:39.531577600Z"
    }
   },
   "id": "faf44eb83a63451a"
  },
  {
   "cell_type": "code",
   "execution_count": 39,
   "outputs": [
    {
     "data": {
      "text/plain": "573.3571428571429"
     },
     "execution_count": 39,
     "metadata": {},
     "output_type": "execute_result"
    }
   ],
   "source": [
    "np.mean([887 , 504 , 404 , 408 , 377 , 679 , 495 , 547 , 1093 , 304 , 458 , 1017 , 386 , 468])"
   ],
   "metadata": {
    "collapsed": false,
    "ExecuteTime": {
     "end_time": "2024-01-21T16:37:37.329984500Z",
     "start_time": "2024-01-21T16:37:37.267453200Z"
    }
   },
   "id": "853ff7d539725e38"
  },
  {
   "cell_type": "code",
   "execution_count": 40,
   "outputs": [
    {
     "data": {
      "text/plain": "14.642857142857142"
     },
     "execution_count": 40,
     "metadata": {},
     "output_type": "execute_result"
    }
   ],
   "source": [
    "np.mean([24 ,11 ,8 ,14 ,9 ,20 ,14 ,12 ,19 ,8 ,12 ,34 ,9 ,11])"
   ],
   "metadata": {
    "collapsed": false,
    "ExecuteTime": {
     "end_time": "2024-01-21T16:39:24.099743700Z",
     "start_time": "2024-01-21T16:39:24.005998600Z"
    }
   },
   "id": "47d066e1e4bcb274"
  },
  {
   "cell_type": "code",
   "execution_count": 34,
   "outputs": [
    {
     "ename": "TypeError",
     "evalue": "'Axes' object is not iterable",
     "output_type": "error",
     "traceback": [
      "\u001B[1;31m---------------------------------------------------------------------------\u001B[0m",
      "\u001B[1;31mTypeError\u001B[0m                                 Traceback (most recent call last)",
      "Cell \u001B[1;32mIn[34], line 3\u001B[0m\n\u001B[0;32m      1\u001B[0m ALGORITHM_NAMES \u001B[38;5;241m=\u001B[39m [\u001B[38;5;124m'\u001B[39m\u001B[38;5;124mkmeans\u001B[39m\u001B[38;5;124m'\u001B[39m]\n\u001B[0;32m      2\u001B[0m fig, axs \u001B[38;5;241m=\u001B[39m plt\u001B[38;5;241m.\u001B[39msubplots(\u001B[38;5;241m1\u001B[39m, sharex\u001B[38;5;241m=\u001B[39m\u001B[38;5;28;01mTrue\u001B[39;00m, sharey\u001B[38;5;241m=\u001B[39m\u001B[38;5;28;01mTrue\u001B[39;00m)\n\u001B[1;32m----> 3\u001B[0m \u001B[38;5;28;01mfor\u001B[39;00m algo_type, i_axs \u001B[38;5;129;01min\u001B[39;00m \u001B[38;5;28;43mzip\u001B[39;49m\u001B[43m(\u001B[49m\u001B[43mALGORITHM_NAMES\u001B[49m\u001B[43m,\u001B[49m\u001B[43m \u001B[49m\u001B[43maxs\u001B[49m\u001B[43m)\u001B[49m:\n\u001B[0;32m      4\u001B[0m     i_axs\u001B[38;5;241m.\u001B[39mplot(\u001B[38;5;28mrange\u001B[39m(\u001B[38;5;241m0\u001B[39m, \u001B[38;5;241m2\u001B[39m), [\u001B[38;5;241m5\u001B[39m, \u001B[38;5;241m6\u001B[39m], label\u001B[38;5;241m=\u001B[39m\u001B[38;5;124m'\u001B[39m\u001B[38;5;124mFederated \u001B[39m\u001B[38;5;124m'\u001B[39m \u001B[38;5;241m+\u001B[39m algo_type, color\u001B[38;5;241m=\u001B[39m\u001B[38;5;124m'\u001B[39m\u001B[38;5;124mblue\u001B[39m\u001B[38;5;124m'\u001B[39m)\n\u001B[0;32m      5\u001B[0m     i_axs\u001B[38;5;241m.\u001B[39mlegend()\n",
      "\u001B[1;31mTypeError\u001B[0m: 'Axes' object is not iterable"
     ]
    },
    {
     "data": {
      "text/plain": "<Figure size 640x480 with 1 Axes>",
      "image/png": "[encoded data removed]"
     },
     "metadata": {},
     "output_type": "display_data"
    }
   ],
   "source": [
    "ALGORITHM_NAMES = ['kmeans']\n",
    "fig, axs = plt.subplots(1, sharex=True, sharey=True)\n",
    "for algo_type, i_axs in zip(ALGORITHM_NAMES, axs):\n",
    "    i_axs.plot(range(0, 2), [5, 6], label='Federated ' + algo_type, color='blue')\n",
    "    i_axs.legend()\n",
    "fig.suptitle('Federated Clustering vs Global clustering')\n",
    "fig.supxlabel('STD')\n",
    "fig.supylabel('Adjusted Rand Score')\n",
    "plt.show()"
   ],
   "metadata": {
    "collapsed": false,
    "ExecuteTime": {
     "end_time": "2024-01-21T15:46:27.901249300Z",
     "start_time": "2024-01-21T15:46:27.180763100Z"
    }
   },
   "id": "8b528d8b7c975dbf"
  },
  {
   "cell_type": "code",
   "execution_count": 35,
   "outputs": [
    {
     "data": {
      "text/plain": "<Figure size 1000x600 with 1 Axes>",
      "image/png": "[encoded data removed]"
     },
     "metadata": {},
     "output_type": "display_data"
    }
   ],
   "source": [
    "plt.figure(figsize=(10, 6))\n",
    "plt.plot(range(0, 2), [5, 6], label='Federated ', color='blue')\n",
    "plt.title('A')\n",
    "plt.xlabel('x')\n",
    "plt.ylabel('y')\n",
    "plt.show()"
   ],
   "metadata": {
    "collapsed": false,
    "ExecuteTime": {
     "end_time": "2024-01-21T15:51:26.231033Z",
     "start_time": "2024-01-21T15:51:25.725190500Z"
    }
   },
   "id": "d7b086318548de2e"
  },
  {
   "cell_type": "code",
   "execution_count": 11,
   "outputs": [
    {
     "data": {
      "text/plain": "array([2, 2, 2, 1, 0, 2, 1, 2, 0, 1, 1, 0, 0, 1, 1, 2, 2, 0, 0, 1, 2, 2,\n       2, 1, 2, 0, 2, 1, 0, 1, 2, 0, 0, 0, 2, 1, 0, 0, 2, 2, 1, 2, 0, 1,\n       1, 0, 0, 1, 2, 2, 1, 1, 2, 2, 0, 2, 1, 1, 1, 0, 2, 2, 1, 0, 1, 2,\n       0, 1, 1, 0, 1, 0, 0, 2, 2, 2, 0, 2, 2, 2, 1, 1, 2, 2, 1, 0, 2, 2,\n       2, 1, 0, 2, 1, 0, 2, 0, 2, 2, 1, 2, 1, 2, 0, 1, 2, 1, 2, 0, 1, 0,\n       1, 2, 0, 2, 1, 2, 0, 2, 2, 0, 2, 0, 0, 1, 0, 1, 2, 2, 0, 2, 0, 0,\n       0, 0, 0, 1, 2, 0, 0, 0, 2, 2, 0, 0, 0, 1, 0, 1, 1, 2, 2, 0, 0, 2,\n       2, 0, 0, 1, 0, 0, 2, 0, 2, 1, 1, 2, 2, 0, 1, 0, 1, 0, 0, 0, 2, 0,\n       0, 1, 1, 0, 0, 2, 0, 0, 2, 1, 1, 1, 2, 2, 0, 0, 0, 2, 0, 0, 1, 2,\n       0, 2, 1, 1, 1, 1, 0, 0, 0, 0, 1, 2, 1, 1, 1, 2, 0, 1, 2, 1, 1, 1,\n       2, 0, 1, 0, 1, 1, 0, 0, 2, 0, 2, 0, 1, 0, 2, 2, 0, 2, 2, 1, 2, 0,\n       0, 2, 0, 1, 0, 0, 2, 1, 0, 1, 0, 1, 0, 0, 0, 1, 2, 1, 1, 2, 1, 2,\n       1, 2, 0, 1, 0, 1, 1, 0, 2, 1, 2, 2, 2, 1, 2, 0, 0, 1, 1, 2, 1, 0,\n       1, 2, 2, 2, 2, 1, 2, 0, 1, 1, 0, 1, 2, 1, 1, 2, 2, 2, 1, 2, 0, 2,\n       1, 1, 0, 0, 2, 1, 0, 1, 2, 0, 1, 2, 1, 1, 1, 1, 0, 1, 0, 2, 2, 0,\n       0, 1, 1, 1, 0, 2, 1, 1, 2, 0, 0, 0, 2, 1, 1, 2, 0, 2, 0, 0, 2, 2,\n       0, 2, 1, 1, 2, 1, 1, 0, 2, 1, 2, 0, 2, 2, 0, 1, 0, 1, 2, 2, 1, 0,\n       2, 1, 1, 1, 2, 0, 1, 0, 1, 1, 2, 2, 2, 2, 0, 1, 1, 1, 0, 2, 1, 1,\n       0, 0, 0, 1, 2, 0, 1, 1, 1, 1, 0, 2, 2, 0, 2, 1, 0, 2, 2, 0, 1, 0,\n       0, 0, 2, 1, 1, 1, 2, 2, 2, 2, 1, 1, 0, 2, 1, 0, 0, 2, 0, 1, 0, 0,\n       2, 0, 0, 0, 1, 2, 2, 1, 1, 2, 2, 1, 0, 0, 1, 0, 1, 2, 0, 0, 2, 1,\n       2, 2, 1, 2, 2, 1, 1, 1, 2, 2, 0, 0, 2, 2, 1, 0, 1, 2, 1, 0, 2, 2,\n       0, 1, 1, 1, 0, 2, 0, 2, 0, 0, 0, 0, 2, 2, 2, 2, 0, 2, 2, 2, 0, 1,\n       1, 2, 0, 1, 2, 0, 2, 1, 1, 0, 2, 0, 0, 2, 0, 2, 2, 2, 2, 1, 2, 2,\n       2, 1, 0, 1, 1, 0, 1, 2, 2, 1, 2, 2, 0, 1, 1, 2, 2, 1, 0, 1, 1, 1,\n       0, 1, 0, 2, 1, 0, 2, 2, 1, 1, 0, 0, 1, 1, 2, 2, 2, 2, 2, 1, 0, 0,\n       1, 2, 0, 2, 2, 1, 1, 0, 1, 0, 2, 0, 2, 1, 0, 1, 0, 0, 0, 0, 0, 1,\n       2, 2, 1, 1, 0, 1, 1, 0, 2, 2, 2, 1, 2, 2, 1, 0, 1, 0, 0, 1, 1, 0,\n       0, 1, 2, 2, 2, 0, 1, 1, 1, 0, 0, 0, 0, 0, 2, 2, 2, 1, 1, 2, 2, 1,\n       0, 2, 0, 1, 1, 2, 2, 1, 2, 1, 1, 2, 1, 0, 1, 0, 2, 0, 1, 2, 2, 0,\n       2, 0, 2, 0, 2, 2, 1, 2, 1, 1, 1, 2, 0, 0, 0, 1, 2, 2, 1, 1, 2, 0,\n       2, 2, 1, 1, 0, 0, 0, 2, 1, 0, 2, 1, 0, 0, 0, 0, 0, 0, 0, 0, 0, 0,\n       0, 2, 2, 1, 1, 1, 1, 0, 1, 1, 0, 1, 1, 2, 1, 1, 1, 0, 0, 1, 2, 1,\n       1, 2, 1, 2, 0, 2, 2, 2, 0, 0, 2, 2, 1, 1, 0, 0, 1, 0, 0, 0, 1, 1,\n       1, 0], dtype=int64)"
     },
     "execution_count": 11,
     "metadata": {},
     "output_type": "execute_result"
    }
   ],
   "source": [
    "labels = model.fit_predict(df)\n",
    "labels"
   ],
   "metadata": {
    "collapsed": false,
    "ExecuteTime": {
     "end_time": "2024-01-20T09:11:51.840130700Z",
     "start_time": "2024-01-20T09:11:48.470878800Z"
    }
   },
   "id": "f59596648a8e6958"
  },
  {
   "cell_type": "code",
   "execution_count": null,
   "outputs": [],
   "source": [],
   "metadata": {
    "collapsed": false
   },
   "id": "4c672ead10c1b6ac"
  },
  {
   "cell_type": "code",
   "execution_count": 13,
   "outputs": [
    {
     "data": {
      "text/plain": "0.9959973226738635"
     },
     "execution_count": 13,
     "metadata": {},
     "output_type": "execute_result"
    }
   ],
   "source": [
    "adjusted_rand_score(labels_true, labels)"
   ],
   "metadata": {
    "collapsed": false,
    "ExecuteTime": {
     "end_time": "2024-01-20T09:12:00.342814400Z",
     "start_time": "2024-01-20T09:12:00.295945500Z"
    }
   },
   "id": "5fcb7754f45f1b08"
  },
  {
   "cell_type": "code",
   "execution_count": null,
   "outputs": [],
   "source": [],
   "metadata": {
    "collapsed": false
   },
   "id": "f5de445c5fc8ede1"
  }
 ],
 "metadata": {
  "kernelspec": {
   "display_name": "Python 3",
   "language": "python",
   "name": "python3"
  },
  "language_info": {
   "codemirror_mode": {
    "name": "ipython",
    "version": 2
   },
   "file_extension": ".py",
   "mimetype": "text/x-python",
   "name": "python",
   "nbconvert_exporter": "python",
   "pygments_lexer": "ipython2",
   "version": "2.7.6"
  }
 },
 "nbformat": 4,
 "nbformat_minor": 5
}
